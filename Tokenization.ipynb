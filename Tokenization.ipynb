{
 "cells": [
  {
   "cell_type": "code",
   "execution_count": 1,
   "metadata": {},
   "outputs": [],
   "source": [
    "import nltk"
   ]
  },
  {
   "cell_type": "code",
   "execution_count": 2,
   "metadata": {},
   "outputs": [],
   "source": [
    "# Paragraph \n",
    "corpus = \"\"\"\n",
    "NLP combines the power of computational linguistics together with machine learning algorithms and deep learning. \n",
    "Computational linguistics uses data science to analyze language and speech. \n",
    "It includes two main types of analysis: syntactical analysis and semantical analysis. \n",
    "Syntactical analysis determines the meaning of a word, phrase or sentence by parsing the syntax of the words and applying preprogrammed rules of grammar. \n",
    "Semantical analysis uses the syntactic output to draw meaning from the words and interpret their meaning within the sentence structure.\n",
    "\n",
    "\"\"\""
   ]
  },
  {
   "cell_type": "code",
   "execution_count": 3,
   "metadata": {},
   "outputs": [
    {
     "name": "stdout",
     "output_type": "stream",
     "text": [
      "\n",
      "NLP combines the power of computational linguistics together with machine learning algorithms and deep learning. \n",
      "Computational linguistics uses data science to analyze language and speech. \n",
      "It includes two main types of analysis: syntactical analysis and semantical analysis. \n",
      "Syntactical analysis determines the meaning of a word, phrase or sentence by parsing the syntax of the words and applying preprogrammed rules of grammar. \n",
      "Semantical analysis uses the syntactic output to draw meaning from the words and interpret their meaning within the sentence structure.\n",
      "\n",
      "\n"
     ]
    }
   ],
   "source": [
    "print(corpus)"
   ]
  },
  {
   "cell_type": "code",
   "execution_count": 4,
   "metadata": {},
   "outputs": [],
   "source": [
    "# Tokenization\n",
    "## paragraphs - > Sentence\n",
    "from nltk.tokenize import sent_tokenize\n"
   ]
  },
  {
   "cell_type": "code",
   "execution_count": 14,
   "metadata": {},
   "outputs": [
    {
     "data": {
      "text/plain": [
       "['\\nNLP combines the power of computational linguistics together with machine learning algorithms and deep learning.',\n",
       " 'Computational linguistics uses data science to analyze language and speech.',\n",
       " 'It includes two main types of analysis: syntactical analysis and semantical analysis.',\n",
       " 'Syntactical analysis determines the meaning of a word, phrase or sentence by parsing the syntax of the words and applying preprogrammed rules of grammar.',\n",
       " 'Semantical analysis uses the syntactic output to draw meaning from the words and interpret their meaning within the sentence structure.']"
      ]
     },
     "execution_count": 14,
     "metadata": {},
     "output_type": "execute_result"
    }
   ],
   "source": [
    "document = sent_tokenize(corpus)\n",
    "document"
   ]
  },
  {
   "cell_type": "code",
   "execution_count": 15,
   "metadata": {},
   "outputs": [
    {
     "name": "stdout",
     "output_type": "stream",
     "text": [
      "\n",
      "NLP combines the power of computational linguistics together with machine learning algorithms and deep learning.\n",
      "Computational linguistics uses data science to analyze language and speech.\n",
      "It includes two main types of analysis: syntactical analysis and semantical analysis.\n",
      "Syntactical analysis determines the meaning of a word, phrase or sentence by parsing the syntax of the words and applying preprogrammed rules of grammar.\n",
      "Semantical analysis uses the syntactic output to draw meaning from the words and interpret their meaning within the sentence structure.\n"
     ]
    }
   ],
   "source": [
    "for documnets in document:\n",
    "    print(documnets)"
   ]
  },
  {
   "cell_type": "code",
   "execution_count": 16,
   "metadata": {},
   "outputs": [],
   "source": [
    "# Tokenization\n",
    "## paragraph - word \n",
    "## sentence - word \n",
    "from nltk.tokenize import word_tokenize"
   ]
  },
  {
   "cell_type": "code",
   "execution_count": 18,
   "metadata": {},
   "outputs": [
    {
     "name": "stdout",
     "output_type": "stream",
     "text": [
      "['NLP', 'combines', 'the', 'power', 'of', 'computational', 'linguistics', 'together', 'with', 'machine', 'learning', 'algorithms', 'and', 'deep', 'learning', '.', 'Computational', 'linguistics', 'uses', 'data', 'science', 'to', 'analyze', 'language', 'and', 'speech', '.', 'It', 'includes', 'two', 'main', 'types', 'of', 'analysis', ':', 'syntactical', 'analysis', 'and', 'semantical', 'analysis', '.', 'Syntactical', 'analysis', 'determines', 'the', 'meaning', 'of', 'a', 'word', ',', 'phrase', 'or', 'sentence', 'by', 'parsing', 'the', 'syntax', 'of', 'the', 'words', 'and', 'applying', 'preprogrammed', 'rules', 'of', 'grammar', '.', 'Semantical', 'analysis', 'uses', 'the', 'syntactic', 'output', 'to', 'draw', 'meaning', 'from', 'the', 'words', 'and', 'interpret', 'their', 'meaning', 'within', 'the', 'sentence', 'structure', '.']\n"
     ]
    }
   ],
   "source": [
    "corpus_words = word_tokenize(corpus)\n",
    "print(corpus_words)"
   ]
  },
  {
   "cell_type": "code",
   "execution_count": 21,
   "metadata": {},
   "outputs": [
    {
     "name": "stdout",
     "output_type": "stream",
     "text": [
      "['NLP', 'combines', 'the', 'power', 'of', 'computational', 'linguistics', 'together', 'with', 'machine', 'learning', 'algorithms', 'and', 'deep', 'learning', '.']\n",
      "['Computational', 'linguistics', 'uses', 'data', 'science', 'to', 'analyze', 'language', 'and', 'speech', '.']\n",
      "['It', 'includes', 'two', 'main', 'types', 'of', 'analysis', ':', 'syntactical', 'analysis', 'and', 'semantical', 'analysis', '.']\n",
      "['Syntactical', 'analysis', 'determines', 'the', 'meaning', 'of', 'a', 'word', ',', 'phrase', 'or', 'sentence', 'by', 'parsing', 'the', 'syntax', 'of', 'the', 'words', 'and', 'applying', 'preprogrammed', 'rules', 'of', 'grammar', '.']\n",
      "['Semantical', 'analysis', 'uses', 'the', 'syntactic', 'output', 'to', 'draw', 'meaning', 'from', 'the', 'words', 'and', 'interpret', 'their', 'meaning', 'within', 'the', 'sentence', 'structure', '.']\n"
     ]
    }
   ],
   "source": [
    "for documnets in document:\n",
    "    print(word_tokenize(documnets))"
   ]
  },
  {
   "cell_type": "code",
   "execution_count": 24,
   "metadata": {},
   "outputs": [],
   "source": [
    "from nltk.tokenize import wordpunct_tokenize"
   ]
  },
  {
   "cell_type": "code",
   "execution_count": 25,
   "metadata": {},
   "outputs": [
    {
     "data": {
      "text/plain": [
       "['NLP',\n",
       " 'combines',\n",
       " 'the',\n",
       " 'power',\n",
       " 'of',\n",
       " 'computational',\n",
       " 'linguistics',\n",
       " 'together',\n",
       " 'with',\n",
       " 'machine',\n",
       " 'learning',\n",
       " 'algorithms',\n",
       " 'and',\n",
       " 'deep',\n",
       " 'learning',\n",
       " '.',\n",
       " 'Computational',\n",
       " 'linguistics',\n",
       " 'uses',\n",
       " 'data',\n",
       " 'science',\n",
       " 'to',\n",
       " 'analyze',\n",
       " 'language',\n",
       " 'and',\n",
       " 'speech',\n",
       " '.',\n",
       " 'It',\n",
       " 'includes',\n",
       " 'two',\n",
       " 'main',\n",
       " 'types',\n",
       " 'of',\n",
       " 'analysis',\n",
       " ':',\n",
       " 'syntactical',\n",
       " 'analysis',\n",
       " 'and',\n",
       " 'semantical',\n",
       " 'analysis',\n",
       " '.',\n",
       " 'Syntactical',\n",
       " 'analysis',\n",
       " 'determines',\n",
       " 'the',\n",
       " 'meaning',\n",
       " 'of',\n",
       " 'a',\n",
       " 'word',\n",
       " ',',\n",
       " 'phrase',\n",
       " 'or',\n",
       " 'sentence',\n",
       " 'by',\n",
       " 'parsing',\n",
       " 'the',\n",
       " 'syntax',\n",
       " 'of',\n",
       " 'the',\n",
       " 'words',\n",
       " 'and',\n",
       " 'applying',\n",
       " 'preprogrammed',\n",
       " 'rules',\n",
       " 'of',\n",
       " 'grammar',\n",
       " '.',\n",
       " 'Semantical',\n",
       " 'analysis',\n",
       " 'uses',\n",
       " 'the',\n",
       " 'syntactic',\n",
       " 'output',\n",
       " 'to',\n",
       " 'draw',\n",
       " 'meaning',\n",
       " 'from',\n",
       " 'the',\n",
       " 'words',\n",
       " 'and',\n",
       " 'interpret',\n",
       " 'their',\n",
       " 'meaning',\n",
       " 'within',\n",
       " 'the',\n",
       " 'sentence',\n",
       " 'structure',\n",
       " '.']"
      ]
     },
     "execution_count": 25,
     "metadata": {},
     "output_type": "execute_result"
    }
   ],
   "source": [
    "wordpunct_tokenize(corpus)"
   ]
  },
  {
   "cell_type": "code",
   "execution_count": 26,
   "metadata": {},
   "outputs": [],
   "source": [
    "from nltk.tokenize import TreebankWordTokenizer"
   ]
  },
  {
   "cell_type": "code",
   "execution_count": 27,
   "metadata": {},
   "outputs": [
    {
     "data": {
      "text/plain": [
       "['NLP',\n",
       " 'combines',\n",
       " 'the',\n",
       " 'power',\n",
       " 'of',\n",
       " 'computational',\n",
       " 'linguistics',\n",
       " 'together',\n",
       " 'with',\n",
       " 'machine',\n",
       " 'learning',\n",
       " 'algorithms',\n",
       " 'and',\n",
       " 'deep',\n",
       " 'learning.',\n",
       " 'Computational',\n",
       " 'linguistics',\n",
       " 'uses',\n",
       " 'data',\n",
       " 'science',\n",
       " 'to',\n",
       " 'analyze',\n",
       " 'language',\n",
       " 'and',\n",
       " 'speech.',\n",
       " 'It',\n",
       " 'includes',\n",
       " 'two',\n",
       " 'main',\n",
       " 'types',\n",
       " 'of',\n",
       " 'analysis',\n",
       " ':',\n",
       " 'syntactical',\n",
       " 'analysis',\n",
       " 'and',\n",
       " 'semantical',\n",
       " 'analysis.',\n",
       " 'Syntactical',\n",
       " 'analysis',\n",
       " 'determines',\n",
       " 'the',\n",
       " 'meaning',\n",
       " 'of',\n",
       " 'a',\n",
       " 'word',\n",
       " ',',\n",
       " 'phrase',\n",
       " 'or',\n",
       " 'sentence',\n",
       " 'by',\n",
       " 'parsing',\n",
       " 'the',\n",
       " 'syntax',\n",
       " 'of',\n",
       " 'the',\n",
       " 'words',\n",
       " 'and',\n",
       " 'applying',\n",
       " 'preprogrammed',\n",
       " 'rules',\n",
       " 'of',\n",
       " 'grammar.',\n",
       " 'Semantical',\n",
       " 'analysis',\n",
       " 'uses',\n",
       " 'the',\n",
       " 'syntactic',\n",
       " 'output',\n",
       " 'to',\n",
       " 'draw',\n",
       " 'meaning',\n",
       " 'from',\n",
       " 'the',\n",
       " 'words',\n",
       " 'and',\n",
       " 'interpret',\n",
       " 'their',\n",
       " 'meaning',\n",
       " 'within',\n",
       " 'the',\n",
       " 'sentence',\n",
       " 'structure',\n",
       " '.']"
      ]
     },
     "execution_count": 27,
     "metadata": {},
     "output_type": "execute_result"
    }
   ],
   "source": [
    "tree = TreebankWordTokenizer()\n",
    "tree.tokenize(corpus)"
   ]
  },
  {
   "cell_type": "code",
   "execution_count": null,
   "metadata": {},
   "outputs": [],
   "source": []
  }
 ],
 "metadata": {
  "kernelspec": {
   "display_name": "nlp_task",
   "language": "python",
   "name": "python3"
  },
  "language_info": {
   "codemirror_mode": {
    "name": "ipython",
    "version": 3
   },
   "file_extension": ".py",
   "mimetype": "text/x-python",
   "name": "python",
   "nbconvert_exporter": "python",
   "pygments_lexer": "ipython3",
   "version": "3.11.0"
  }
 },
 "nbformat": 4,
 "nbformat_minor": 2
}
